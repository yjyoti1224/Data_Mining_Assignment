{
 "cells": [
  {
   "cell_type": "code",
   "execution_count": null,
   "metadata": {},
   "outputs": [],
   "source": [
    "import pandas as pd\n",
    "import matplotlib.pyplot as plt\n",
    "import seaborn as sns\n",
    "from matplotlib.pyplot import figure"
   ]
  },
  {
   "cell_type": "markdown",
   "metadata": {},
   "source": [
    "### Load dataset"
   ]
  },
  {
   "cell_type": "code",
   "execution_count": null,
   "metadata": {},
   "outputs": [],
   "source": [
    "year_list = [2016, 2017, 2018, 2019, 2021, 2022]"
   ]
  },
  {
   "cell_type": "code",
   "execution_count": null,
   "metadata": {},
   "outputs": [],
   "source": [
    "df_nonpev = pd.read_excel('data/AFVReport.xlsx', sheet_name='NJAFVnonPEVRprtbyZIPDetls202106')\n",
    "df_pev = pd.read_excel('data/AFVReport.xlsx', sheet_name='NJAFVPEVRprtbyZIPDetails202206')\n",
    "df_nonpev_22 = pd.read_excel('data/AFVReport.xlsx', sheet_name='NJAFVnonPEVRprtbyZIPDetls202206')\n",
    "df_govt = pd.read_excel('data/AFVReport.xlsx', sheet_name='NJAFVRprtGvtVehicles202206')\n",
    "df_census = pd.read_excel('data/NJ Census Data.xlsx')"
   ]
  },
  {
   "cell_type": "markdown",
   "metadata": {},
   "source": [
    "### Concat dataframe"
   ]
  },
  {
   "cell_type": "code",
   "execution_count": null,
   "metadata": {},
   "outputs": [],
   "source": [
    "df_combine = pd.concat([df_nonpev, df_pev, df_nonpev_22]).reset_index(drop=True)"
   ]
  },
  {
   "cell_type": "markdown",
   "metadata": {},
   "source": [
    "### Data cleaning"
   ]
  },
  {
   "cell_type": "code",
   "execution_count": null,
   "metadata": {},
   "outputs": [],
   "source": [
    "df_combine = df_combine[(df_combine['County']!='Unknown') & \n",
    "                        (df_combine['County']!='zzUnknown') & \n",
    "                       (df_combine['County']!='Total') &\n",
    "                       ~(df_combine['County'].isnull()) &\n",
    "                       ~(df_combine['ModelYear'].isnull())].reset_index(drop=True)\n",
    "df_combine[\"ModelYear\"] = df_combine[\"ModelYear\"].astype(int)"
   ]
  },
  {
   "cell_type": "markdown",
   "metadata": {},
   "source": [
    "### Filter data"
   ]
  },
  {
   "cell_type": "code",
   "execution_count": null,
   "metadata": {},
   "outputs": [],
   "source": [
    "df_filter = df_combine[['County', 'ModelYear', 'ZEVClass', 'VehClass', 'CountOfVIN']]"
   ]
  },
  {
   "cell_type": "code",
   "execution_count": null,
   "metadata": {},
   "outputs": [],
   "source": []
  },
  {
   "cell_type": "markdown",
   "metadata": {},
   "source": [
    "### Question 1: AFV growth in different counties"
   ]
  },
  {
   "cell_type": "code",
   "execution_count": null,
   "metadata": {},
   "outputs": [],
   "source": [
    "zev_class = list(df_filter['ZEVClass'].unique())\n",
    "df_filter_q1 = df_filter[df_filter['ZEVClass'].isin(zev_class)].reset_index(drop=True)"
   ]
  },
  {
   "cell_type": "code",
   "execution_count": null,
   "metadata": {},
   "outputs": [],
   "source": [
    "def get_year_wise_info(df, zev_class, year_list):\n",
    "    county_list = list(df_filter['County'].unique())\n",
    "    county_dict = []\n",
    "    \n",
    "    for county in county_list:\n",
    "        df_county = df[df['County'] == county]\n",
    "        \n",
    "        for year in year_list:\n",
    "            df_year = df_county[df_county['ModelYear']<=year]\n",
    "            \n",
    "            #zev_info = []\n",
    "            for zev in zev_class:\n",
    "                df_zev = df_year[df_year['ZEVClass'] == zev]\n",
    "                county_dict.append([county, year, zev, df_zev['CountOfVIN'].sum()])\n",
    "        #county_dict[county] = zev_info\n",
    "    return county_dict\n",
    "\n",
    "def get_count_zev_info(df):\n",
    "    grp = df.groupby(by=['County', 'Year'])\n",
    "    c_list = []\n",
    "    \n",
    "    for index, grp_df in grp:\n",
    "        cnt_hev = grp_df[grp_df['ZEVClass'] == 'HEV']['CountOfVIN'].sum()\n",
    "        cnt_nev = grp_df[grp_df['ZEVClass'] == 'NEV']['CountOfVIN'].sum()\n",
    "        cnt_phev = grp_df[grp_df['ZEVClass'] == 'PHEV']['CountOfVIN'].sum()\n",
    "        cnt_bev = grp_df[grp_df['ZEVClass'] == 'BEV']['CountOfVIN'].sum()\n",
    "        c_list.append([index[0], index[1], cnt_hev, cnt_nev, cnt_phev, cnt_bev])\n",
    "    \n",
    "    df_final = pd.DataFrame(c_list, columns=['County', 'Year', 'HEV', 'NEV', 'PHEV', 'BEV'])\n",
    "    df_final = df_final.sort_values(by=['County', 'Year', 'HEV', 'NEV', 'PHEV', 'BEV'], \n",
    "                                    ascending=True).reset_index(drop=True)\n",
    "    return df_final\n",
    "        \n",
    "\n",
    "def plot_stack_bar(df):\n",
    "    \n",
    "    grp_item = df.groupby(by=['County'])\n",
    "    \n",
    "    for index, grp_df in grp_item:\n",
    "        grp_df = grp_df.reset_index(drop=True)\n",
    "        #return grp_df\n",
    "        #set seaborn plotting aesthetics\n",
    "        sns.set(rc={'figure.figsize':(6,4)})\n",
    "        sns.set(style='white')\n",
    "\n",
    "        #create stacked bar chart\n",
    "        grp_df.set_index('Year').plot(kind='bar', stacked=True, color=['steelblue', 'green', 'gray', 'orange'])\n",
    "\n",
    "        #add overall title\n",
    "        plt.title(index+ ' County Electric Vehicle Growth', fontsize=16)\n",
    "\n",
    "        #add axis titles\n",
    "        plt.xlabel('Year')\n",
    "        plt.ylabel('EV count')\n",
    "\n",
    "        #rotate x-axis labels\n",
    "        plt.xticks(rotation=45)\n",
    "    "
   ]
  },
  {
   "cell_type": "code",
   "execution_count": null,
   "metadata": {},
   "outputs": [],
   "source": [
    "county_dict = get_year_wise_info(df_filter, zev_class, year_list)"
   ]
  },
  {
   "cell_type": "code",
   "execution_count": null,
   "metadata": {},
   "outputs": [],
   "source": []
  },
  {
   "cell_type": "code",
   "execution_count": null,
   "metadata": {},
   "outputs": [],
   "source": [
    "county_df = pd.DataFrame(county_dict, columns=['County', 'Year' ,'ZEVClass', 'CountOfVIN'])\n",
    "county_plot_df = get_count_zev_info(county_df)"
   ]
  },
  {
   "cell_type": "code",
   "execution_count": null,
   "metadata": {},
   "outputs": [],
   "source": [
    "plot_stack_bar(county_plot_df)"
   ]
  },
  {
   "cell_type": "markdown",
   "metadata": {},
   "source": [
    "### Q2:  Link between AFV growth and county’s rank"
   ]
  },
  {
   "cell_type": "code",
   "execution_count": null,
   "metadata": {},
   "outputs": [],
   "source": [
    "def get_county_wise_ev(df, df_census):\n",
    "    df_census['County'] = df_census['County'].str.replace(' County','')\n",
    "    grp = df.groupby(by=['County'])\n",
    "    c_list = []\n",
    "    \n",
    "    for index, grp_df in grp:\n",
    "        ev_count = grp_df['CountOfVIN'].sum()\n",
    "        c_list.append([index, ev_count])\n",
    "    \n",
    "    df_final = pd.DataFrame(c_list, columns=['County', 'Total AVF'])\n",
    "    df_join = df_census.merge(df_final, on =['County'], how='left')\n",
    "    return df_join"
   ]
  },
  {
   "cell_type": "code",
   "execution_count": null,
   "metadata": {},
   "outputs": [],
   "source": [
    "df_soci = get_county_wise_ev(county_df, df_census)"
   ]
  },
  {
   "cell_type": "code",
   "execution_count": null,
   "metadata": {},
   "outputs": [],
   "source": [
    "#df_soci['Auction_Rank'] = df_soci.groupby('County')['Total AVF'].rank()\n",
    "df_soci['AVF_Rank'] = df_soci['Total AVF'].rank().astype(int)"
   ]
  },
  {
   "cell_type": "code",
   "execution_count": null,
   "metadata": {},
   "outputs": [],
   "source": []
  },
  {
   "cell_type": "code",
   "execution_count": null,
   "metadata": {},
   "outputs": [],
   "source": []
  },
  {
   "cell_type": "code",
   "execution_count": null,
   "metadata": {},
   "outputs": [],
   "source": []
  },
  {
   "cell_type": "code",
   "execution_count": null,
   "metadata": {},
   "outputs": [],
   "source": []
  },
  {
   "cell_type": "code",
   "execution_count": null,
   "metadata": {},
   "outputs": [],
   "source": []
  }
 ],
 "metadata": {
  "kernelspec": {
   "display_name": "Python 3",
   "language": "python",
   "name": "python3"
  },
  "language_info": {
   "codemirror_mode": {
    "name": "ipython",
    "version": 3
   },
   "file_extension": ".py",
   "mimetype": "text/x-python",
   "name": "python",
   "nbconvert_exporter": "python",
   "pygments_lexer": "ipython3",
   "version": "3.8.3"
  }
 },
 "nbformat": 4,
 "nbformat_minor": 4
}
